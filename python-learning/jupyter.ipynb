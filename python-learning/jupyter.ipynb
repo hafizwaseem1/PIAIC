{
 "cells": [
  {
   "cell_type": "code",
   "execution_count": 1,
   "metadata": {},
   "outputs": [
    {
     "name": "stdout",
     "output_type": "stream",
     "text": [
      "banana\n",
      "Mango\n",
      "Apple\n"
     ]
    }
   ],
   "source": [
    "fruits=[\"banana\", \"Mango\", \"Apple\"]\n",
    "for x in fruits:\n",
    "    print(x)"
   ]
  },
  {
   "cell_type": "code",
   "execution_count": null,
   "metadata": {},
   "outputs": [],
   "source": [
    "x=[\"a\",\"b\",\"a\",\"b\"]\n"
   ]
  },
  {
   "cell_type": "code",
   "execution_count": 14,
   "metadata": {},
   "outputs": [
    {
     "name": "stdout",
     "output_type": "stream",
     "text": [
      "Ahmad cannot come\n",
      "['waseem', 'EPESYS', 'Ammar', 'Faisal', 'Maryam']\n"
     ]
    }
   ],
   "source": [
    "elements=[\"waseem\", \"Ahmad\", \"Ammar\", \"Faisal\", \"Maryam\"]\n",
    "print(f\"{elements[1]} cannot come\")\n",
    "elements[1]=\"EPESYS\"\n",
    "\n",
    "\n",
    "\n",
    "print(elements)\n"
   ]
  },
  {
   "cell_type": "code",
   "execution_count": 11,
   "metadata": {},
   "outputs": [
    {
     "name": "stdout",
     "output_type": "stream",
     "text": [
      "hello! waseem You are invited to a dinnner\n",
      "hello! Ahmad You are invited to a dinnner\n",
      "hello! Ammar You are invited to a dinnner\n",
      "hello! Faisal You are invited to a dinnner\n"
     ]
    }
   ],
   "source": [
    "elements=[\"waseem\", \"Ahmad\", \"Ammar\", \"Faisal\", \"Maryam\"]\n",
    "print(f\"hello! {elements[0]} You are invited to a dinnner\")\n",
    "print(f\"hello! {elements[1]} You are invited to a dinnner\")\n",
    "print(f\"hello! {elements[2]} You are invited to a dinnner\")\n",
    "print(f\"hello! {elements[3]} You are invited to a dinnner\")"
   ]
  },
  {
   "cell_type": "code",
   "execution_count": 12,
   "metadata": {},
   "outputs": [
    {
     "name": "stdout",
     "output_type": "stream",
     "text": [
      "hello! waseem You are invited to a dinnner\n",
      "hello! Ahmad You are invited to a dinnner\n",
      "hello! Ammar You are invited to a dinnner\n",
      "hello! Faisal You are invited to a dinnner\n",
      "hello! Maryam You are invited to a dinnner\n"
     ]
    }
   ],
   "source": [
    "elements=[\"waseem\", \"Ahmad\", \"Ammar\", \"Faisal\", \"Maryam\"]\n",
    "for x in elements:\n",
    "    print(f\"hello! {x} You are invited to a dinnner\")"
   ]
  },
  {
   "cell_type": "code",
   "execution_count": 47,
   "metadata": {},
   "outputs": [
    {
     "name": "stdout",
     "output_type": "stream",
     "text": [
      "I would Like to buy Hayabusa\n",
      "Hello Faisal you are invited to come to the part\n",
      "['France', 'Sea', 'USA', 'Germany', 'Hayabusa', 'Faisal']\n",
      "['waseem', 'France', 'Sea', 'USA', 'Germany', 'Hayabusa', 'Faisal']\n",
      "['waseem', 'France', 'Sea', 'USA', 'Germany', 'Hayabusa', 'Faisal', 'nadeem']\n",
      "['waseem', 'France', 'Sea', 'USA', 'Germany', 'Hayabusa', 'Faisal']\n",
      "['France', 'Sea', 'USA', 'Germany', 'Hayabusa', 'Faisal']\n",
      "['Faisal', 'France', 'Germany', 'Hayabusa', 'Sea', 'USA']\n",
      "['Faisal', 'Hayabusa', 'Germany', 'USA', 'Sea', 'France']\n",
      "['USA', 'Sea', 'Hayabusa', 'Germany', 'France', 'Faisal']\n"
     ]
    }
   ],
   "source": [
    "things=[\"Mountains\", \"Sea\", \"USA\", \"Germany\", \"Hayabusa\", \"Faisal\"]\n",
    "print(f\"I would Like to buy {things[4]}\")\n",
    "print(f\"Hello {things[5]} you are invited to come to the part\")\n",
    "things[0]=\"France\"\n",
    "print(things)\n",
    "things.insert(0,\"waseem\")\n",
    "print(things)\n",
    "things.append(\"nadeem\")\n",
    "print(things)\n",
    "things.pop(7)\n",
    "print(things)\n",
    "del things[0]\n",
    "print(things)\n",
    "print(sorted(things))\n",
    "print(list(reversed(things)))\n",
    "print(list(reversed(sorted(things))))"
   ]
  },
  {
   "cell_type": "code",
   "execution_count": 4,
   "metadata": {},
   "outputs": [
    {
     "name": "stdout",
     "output_type": "stream",
     "text": [
      "3 * 1 = 3\n",
      "3 * 2 = 6\n",
      "3 * 3 = 9\n",
      "3 * 4 = 12\n",
      "3 * 5 = 15\n",
      "3 * 6 = 18\n",
      "3 * 7 = 21\n",
      "3 * 8 = 24\n",
      "3 * 9 = 27\n",
      "3 * 10 = 30\n"
     ]
    }
   ],
   "source": [
    "number = int(input(\"Enter number\"))\n",
    "\n",
    "for i in range(1,11):\n",
    "    print(f\"{number} * {i} = {number*i}\")"
   ]
  },
  {
   "cell_type": "code",
   "execution_count": 15,
   "metadata": {},
   "outputs": [
    {
     "name": "stdout",
     "output_type": "stream",
     "text": [
      "5\n"
     ]
    }
   ],
   "source": [
    "first_Number=int(input(\"Enter first number\"))\n",
    "second_number= int(input(\"Enter second number\"))\n",
    "result = first_Number+second_number\n",
    "print(result)"
   ]
  },
  {
   "cell_type": "code",
   "execution_count": 17,
   "metadata": {},
   "outputs": [
    {
     "name": "stdout",
     "output_type": "stream",
     "text": [
      "What's your favorite animal?\n",
      "cow\n",
      "My favorite animal is also cow\n"
     ]
    }
   ],
   "source": [
    "\n",
    "print(\"What's your favorite animal?\")\n",
    "Animal=input(\"Enter Animal Name\")\n",
    "print(Animal)\n",
    "print(f\"My favorite animal is also {Animal}\")"
   ]
  },
  {
   "cell_type": "code",
   "execution_count": 19,
   "metadata": {},
   "outputs": [
    {
     "name": "stdout",
     "output_type": "stream",
     "text": [
      "23.333333333333332c\n"
     ]
    }
   ],
   "source": [
    "temprature=float(input(\"Enter temperature in Fahrenheit:\"))\n",
    "result= (temprature - 32) * 5.0/9.0\n",
    "print(f\"{result}c\")"
   ]
  },
  {
   "cell_type": "code",
   "execution_count": 21,
   "metadata": {},
   "outputs": [
    {
     "name": "stdout",
     "output_type": "stream",
     "text": [
      "3.0\n",
      "4.0\n",
      "5.5\n",
      "The perimeter of the triangle is 12.5\n"
     ]
    }
   ],
   "source": [
    "first_side=float(input(\"What is the length of side 1\"))\n",
    "second_side=float(input(\"What is the length of side 2\"))\n",
    "third_side=float(input(\"What is the length of side 3\"))\n",
    "\n",
    "result=first_side+second_side+third_side\n",
    "print(first_side)\n",
    "print(second_side)\n",
    "print(third_side)\n",
    "print(f\"The perimeter of the triangle is {result}\")"
   ]
  },
  {
   "cell_type": "code",
   "execution_count": 22,
   "metadata": {},
   "outputs": [
    {
     "name": "stdout",
     "output_type": "stream",
     "text": [
      "4.0 squared is 16.0\n"
     ]
    }
   ],
   "source": [
    "square_number= float(input(\"Type a number to see its square:\"))\n",
    "result=square_number**2\n",
    "print(f\"{square_number} squared is {result}\")"
   ]
  },
  {
   "cell_type": "code",
   "execution_count": 8,
   "metadata": {},
   "outputs": [
    {
     "name": "stdout",
     "output_type": "stream",
     "text": [
      "Enter your name: Alex\n",
      "Enter your first favorite number: 4\n",
      "Enter your second favorite number: 6\n",
      "Enter your third favorite number: 9\n",
      "Hello, Alex! Let's explore your favorite numbers:\n",
      "The number 4 is even\n",
      "The number 6 is even\n",
      "The number 9 is Odd\n",
      "The number 4 and its square: (4, 16)\n",
      "The number 6 and its square: (6, 36)\n",
      "The number 9 and its square: (9, 81)\n",
      "Amazing! The sum of your favorite numbers is: 19\n",
      "Wow! 19 is a prime number\n"
     ]
    }
   ],
   "source": [
    "name=input(\"Enter Your Name\")\n",
    "first_favourite_number=int(input(\"Enter first favourite number:\"))\n",
    "second_favourite_number= int(input(\"Enter second favourite number:\"))\n",
    "third_favourite_number=int(input(\"Enter third favourite number:\"))\n",
    "\n",
    "print(f\"Enter your name: {name}\");\n",
    "print(f\"Enter your first favorite number: {first_favourite_number}\");\n",
    "print(f\"Enter your second favorite number: {second_favourite_number}\");\n",
    "print(f\"Enter your third favorite number: {third_favourite_number}\")\n",
    "\n",
    "print(f\"Hello, {name}! Let's explore your favorite numbers:\")\n",
    "numbers=[first_favourite_number, second_favourite_number, third_favourite_number]\n",
    "for i in numbers:\n",
    "    if i % 2 == 0:\n",
    "        print(f\"The number {i} is even\")\n",
    "    else:\n",
    "        print(f\"The number {i} is Odd\")\n",
    "\n",
    "for j in numbers:\n",
    "    squared_number= j**2;\n",
    "    square_tuple=(j, squared_number)\n",
    "    print(f\"The number {j} and its square: {square_tuple}\")\n",
    "\n",
    "sum_of_numbers = first_favourite_number+second_favourite_number+third_favourite_number;\n",
    "print(f\"Amazing! The sum of your favorite numbers is: {sum_of_numbers}\")\n",
    "\n",
    "def is_prime(sum_of_numbers):\n",
    "    if sum_of_numbers <= 1:\n",
    "        return False\n",
    "    for i in range(2, int(sum_of_numbers ** 0.5) + 1):\n",
    "        if sum_of_numbers % i == 0:\n",
    "            return False\n",
    "    return True\n",
    "\n",
    "# Check if the sum_of_numbers is prime\n",
    "if is_prime(sum_of_numbers):\n",
    "    print(f\"Wow! {sum_of_numbers} is a prime number\")\n",
    "else:\n",
    "    print(f\"Alas {sum_of_numbers} is not a prime number\")"
   ]
  },
  {
   "cell_type": "code",
   "execution_count": 1,
   "metadata": {},
   "outputs": [
    {
     "name": "stdout",
     "output_type": "stream",
     "text": [
      "\n",
      "Select Operation:\n",
      "1. Add:\n",
      "2. Subtract:\n",
      "3.Multiply:\n",
      "4.Devide:\n",
      "Type 'stop' To Exit.\n",
      "\n",
      "Select Operation:\n",
      "1. Add:\n",
      "2. Subtract:\n",
      "3.Multiply:\n",
      "4.Devide:\n",
      "Type 'stop' To Exit.\n",
      "\n",
      "Select Operation:\n",
      "1. Add:\n",
      "2. Subtract:\n",
      "3.Multiply:\n",
      "4.Devide:\n",
      "Type 'stop' To Exit.\n"
     ]
    },
    {
     "ename": "ValueError",
     "evalue": "could not convert string to float: 'stop'",
     "output_type": "error",
     "traceback": [
      "\u001b[1;31m---------------------------------------------------------------------------\u001b[0m",
      "\u001b[1;31mValueError\u001b[0m                                Traceback (most recent call last)",
      "Cell \u001b[1;32mIn[1], line 43\u001b[0m\n\u001b[0;32m     40\u001b[0m         \u001b[38;5;28;01melse\u001b[39;00m:\n\u001b[0;32m     41\u001b[0m             \u001b[38;5;28mprint\u001b[39m(\u001b[38;5;124m\"\u001b[39m\u001b[38;5;124mInvalid Input\u001b[39m\u001b[38;5;124m\"\u001b[39m)\n\u001b[1;32m---> 43\u001b[0m \u001b[43mcalculator\u001b[49m\u001b[43m(\u001b[49m\u001b[43m)\u001b[49m;\n",
      "Cell \u001b[1;32mIn[1], line 26\u001b[0m, in \u001b[0;36mcalculator\u001b[1;34m()\u001b[0m\n\u001b[0;32m     24\u001b[0m     \u001b[38;5;28;01mbreak\u001b[39;00m\n\u001b[0;32m     25\u001b[0m \u001b[38;5;28;01mif\u001b[39;00m choice \u001b[38;5;129;01min\u001b[39;00m (\u001b[38;5;124m'\u001b[39m\u001b[38;5;124m1\u001b[39m\u001b[38;5;124m'\u001b[39m, \u001b[38;5;124m'\u001b[39m\u001b[38;5;124m2\u001b[39m\u001b[38;5;124m'\u001b[39m, \u001b[38;5;124m'\u001b[39m\u001b[38;5;124m3\u001b[39m\u001b[38;5;124m'\u001b[39m, \u001b[38;5;124m'\u001b[39m\u001b[38;5;124m4\u001b[39m\u001b[38;5;124m'\u001b[39m):\n\u001b[1;32m---> 26\u001b[0m     num1 \u001b[38;5;241m=\u001b[39m \u001b[38;5;28;43mfloat\u001b[39;49m\u001b[43m(\u001b[49m\u001b[38;5;28;43minput\u001b[39;49m\u001b[43m(\u001b[49m\u001b[38;5;124;43m\"\u001b[39;49m\u001b[38;5;124;43mEnter First Number:\u001b[39;49m\u001b[38;5;124;43m\"\u001b[39;49m\u001b[43m)\u001b[49m\u001b[43m)\u001b[49m\n\u001b[0;32m     27\u001b[0m     num2 \u001b[38;5;241m=\u001b[39m \u001b[38;5;28mfloat\u001b[39m(\u001b[38;5;28minput\u001b[39m(\u001b[38;5;124m\"\u001b[39m\u001b[38;5;124mEnter Second Number:\u001b[39m\u001b[38;5;124m\"\u001b[39m))\n\u001b[0;32m     28\u001b[0m \u001b[38;5;28;01melif\u001b[39;00m choice \u001b[38;5;241m==\u001b[39m\u001b[38;5;124m'\u001b[39m\u001b[38;5;124m1\u001b[39m\u001b[38;5;124m'\u001b[39m:\n",
      "\u001b[1;31mValueError\u001b[0m: could not convert string to float: 'stop'"
     ]
    }
   ],
   "source": [
    "def add(x,y):\n",
    "    return x + y\n",
    "def subtract(x,y):\n",
    "    return x-y\n",
    "def multiply(x,y):\n",
    "    return x*y\n",
    "def devide(x,y):\n",
    "    if y !=0 :\n",
    "        return x/y\n",
    "    else:\n",
    "        return print(\"Error! Devision by zero.\")\n",
    "def calculator():\n",
    "    while True:\n",
    "        print(\"\\nSelect Operation:\")\n",
    "        print(\"1. Add:\")\n",
    "        print(\"2. Subtract:\")\n",
    "        print(\"3.Multiply:\")\n",
    "        print(\"4.Devide:\")\n",
    "        print(\"Type 'stop' To Exit.\")\n",
    "\n",
    "        choice = input(\"Enter Choice (1/2/3/4) or 'stop':\")\n",
    "        if choice == 'stop':\n",
    "            print(\"Calculator Exiting....\")\n",
    "            break\n",
    "        if choice in ('1', '2', '3', '4'):\n",
    "            num1 = float(input(\"Enter First Number:\"))\n",
    "            num2 = float(input(\"Enter Second Number:\"))\n",
    "        elif choice =='1':\n",
    "            print(f\"{num1}+{num2} = {add(num1,num2)}\")\n",
    "        elif choice == '2':\n",
    "            print(f\"{num1}-{num2} = {subtract(num1,num2)}\")\n",
    "        elif choice == '3':\n",
    "            print(f\"{num1}*{num2}={multiply(num1, num2)}\")\n",
    "        elif choice == '4':\n",
    "            result= devide(num1, num2)\n",
    "            if result == \"Error! Devision by zero\":\n",
    "                print(result)\n",
    "            else:\n",
    "                print(f\"{num1}/{num2} = {result}\")\n",
    "        else:\n",
    "            print(\"Invalid Input\")\n",
    "                \n",
    "calculator()"
   ]
  }
 ],
 "metadata": {
  "kernelspec": {
   "display_name": "Python 3",
   "language": "python",
   "name": "python3"
  },
  "language_info": {
   "codemirror_mode": {
    "name": "ipython",
    "version": 3
   },
   "file_extension": ".py",
   "mimetype": "text/x-python",
   "name": "python",
   "nbconvert_exporter": "python",
   "pygments_lexer": "ipython3",
   "version": "3.12.4"
  }
 },
 "nbformat": 4,
 "nbformat_minor": 2
}
