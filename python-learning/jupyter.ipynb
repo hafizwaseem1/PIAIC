{
 "cells": [
  {
   "cell_type": "code",
   "execution_count": 1,
   "metadata": {},
   "outputs": [
    {
     "name": "stdout",
     "output_type": "stream",
     "text": [
      "banana\n",
      "Mango\n",
      "Apple\n"
     ]
    }
   ],
   "source": [
    "fruits=[\"banana\", \"Mango\", \"Apple\"]\n",
    "for x in fruits:\n",
    "    print(x)"
   ]
  },
  {
   "cell_type": "code",
   "execution_count": null,
   "metadata": {},
   "outputs": [],
   "source": [
    "x=[\"a\",\"b\",\"a\",\"b\"]\n"
   ]
  },
  {
   "cell_type": "code",
   "execution_count": 14,
   "metadata": {},
   "outputs": [
    {
     "name": "stdout",
     "output_type": "stream",
     "text": [
      "Ahmad cannot come\n",
      "['waseem', 'EPESYS', 'Ammar', 'Faisal', 'Maryam']\n"
     ]
    }
   ],
   "source": [
    "elements=[\"waseem\", \"Ahmad\", \"Ammar\", \"Faisal\", \"Maryam\"]\n",
    "print(f\"{elements[1]} cannot come\")\n",
    "elements[1]=\"EPESYS\"\n",
    "\n",
    "\n",
    "\n",
    "print(elements)\n"
   ]
  },
  {
   "cell_type": "code",
   "execution_count": 11,
   "metadata": {},
   "outputs": [
    {
     "name": "stdout",
     "output_type": "stream",
     "text": [
      "hello! waseem You are invited to a dinnner\n",
      "hello! Ahmad You are invited to a dinnner\n",
      "hello! Ammar You are invited to a dinnner\n",
      "hello! Faisal You are invited to a dinnner\n"
     ]
    }
   ],
   "source": [
    "elements=[\"waseem\", \"Ahmad\", \"Ammar\", \"Faisal\", \"Maryam\"]\n",
    "print(f\"hello! {elements[0]} You are invited to a dinnner\")\n",
    "print(f\"hello! {elements[1]} You are invited to a dinnner\")\n",
    "print(f\"hello! {elements[2]} You are invited to a dinnner\")\n",
    "print(f\"hello! {elements[3]} You are invited to a dinnner\")"
   ]
  },
  {
   "cell_type": "code",
   "execution_count": 12,
   "metadata": {},
   "outputs": [
    {
     "name": "stdout",
     "output_type": "stream",
     "text": [
      "hello! waseem You are invited to a dinnner\n",
      "hello! Ahmad You are invited to a dinnner\n",
      "hello! Ammar You are invited to a dinnner\n",
      "hello! Faisal You are invited to a dinnner\n",
      "hello! Maryam You are invited to a dinnner\n"
     ]
    }
   ],
   "source": [
    "elements=[\"waseem\", \"Ahmad\", \"Ammar\", \"Faisal\", \"Maryam\"]\n",
    "for x in elements:\n",
    "    print(f\"hello! {x} You are invited to a dinnner\")"
   ]
  },
  {
   "cell_type": "code",
   "execution_count": 47,
   "metadata": {},
   "outputs": [
    {
     "name": "stdout",
     "output_type": "stream",
     "text": [
      "I would Like to buy Hayabusa\n",
      "Hello Faisal you are invited to come to the part\n",
      "['France', 'Sea', 'USA', 'Germany', 'Hayabusa', 'Faisal']\n",
      "['waseem', 'France', 'Sea', 'USA', 'Germany', 'Hayabusa', 'Faisal']\n",
      "['waseem', 'France', 'Sea', 'USA', 'Germany', 'Hayabusa', 'Faisal', 'nadeem']\n",
      "['waseem', 'France', 'Sea', 'USA', 'Germany', 'Hayabusa', 'Faisal']\n",
      "['France', 'Sea', 'USA', 'Germany', 'Hayabusa', 'Faisal']\n",
      "['Faisal', 'France', 'Germany', 'Hayabusa', 'Sea', 'USA']\n",
      "['Faisal', 'Hayabusa', 'Germany', 'USA', 'Sea', 'France']\n",
      "['USA', 'Sea', 'Hayabusa', 'Germany', 'France', 'Faisal']\n"
     ]
    }
   ],
   "source": [
    "things=[\"Mountains\", \"Sea\", \"USA\", \"Germany\", \"Hayabusa\", \"Faisal\"]\n",
    "print(f\"I would Like to buy {things[4]}\")\n",
    "print(f\"Hello {things[5]} you are invited to come to the part\")\n",
    "things[0]=\"France\"\n",
    "print(things)\n",
    "things.insert(0,\"waseem\")\n",
    "print(things)\n",
    "things.append(\"nadeem\")\n",
    "print(things)\n",
    "things.pop(7)\n",
    "print(things)\n",
    "del things[0]\n",
    "print(things)\n",
    "print(sorted(things))\n",
    "print(list(reversed(things)))\n",
    "print(list(reversed(sorted(things))))"
   ]
  },
  {
   "cell_type": "code",
   "execution_count": 4,
   "metadata": {},
   "outputs": [
    {
     "name": "stdout",
     "output_type": "stream",
     "text": [
      "3 * 1 = 3\n",
      "3 * 2 = 6\n",
      "3 * 3 = 9\n",
      "3 * 4 = 12\n",
      "3 * 5 = 15\n",
      "3 * 6 = 18\n",
      "3 * 7 = 21\n",
      "3 * 8 = 24\n",
      "3 * 9 = 27\n",
      "3 * 10 = 30\n"
     ]
    }
   ],
   "source": [
    "number = int(input(\"Enter number\"))\n",
    "\n",
    "for i in range(1,11):\n",
    "    print(f\"{number} * {i} = {number*i}\")"
   ]
  },
  {
   "cell_type": "code",
   "execution_count": 15,
   "metadata": {},
   "outputs": [
    {
     "name": "stdout",
     "output_type": "stream",
     "text": [
      "5\n"
     ]
    }
   ],
   "source": [
    "first_Number=int(input(\"Enter first number\"))\n",
    "second_number= int(input(\"Enter second number\"))\n",
    "result = first_Number+second_number\n",
    "print(result)"
   ]
  },
  {
   "cell_type": "code",
   "execution_count": 17,
   "metadata": {},
   "outputs": [
    {
     "name": "stdout",
     "output_type": "stream",
     "text": [
      "What's your favorite animal?\n",
      "cow\n",
      "My favorite animal is also cow\n"
     ]
    }
   ],
   "source": [
    "\n",
    "print(\"What's your favorite animal?\")\n",
    "Animal=input(\"Enter Animal Name\")\n",
    "print(Animal)\n",
    "print(f\"My favorite animal is also {Animal}\")"
   ]
  },
  {
   "cell_type": "code",
   "execution_count": 19,
   "metadata": {},
   "outputs": [
    {
     "name": "stdout",
     "output_type": "stream",
     "text": [
      "23.333333333333332c\n"
     ]
    }
   ],
   "source": [
    "temprature=float(input(\"Enter temperature in Fahrenheit:\"))\n",
    "result= (temprature - 32) * 5.0/9.0\n",
    "print(f\"{result}c\")"
   ]
  },
  {
   "cell_type": "code",
   "execution_count": 21,
   "metadata": {},
   "outputs": [
    {
     "name": "stdout",
     "output_type": "stream",
     "text": [
      "3.0\n",
      "4.0\n",
      "5.5\n",
      "The perimeter of the triangle is 12.5\n"
     ]
    }
   ],
   "source": [
    "first_side=float(input(\"What is the length of side 1\"))\n",
    "second_side=float(input(\"What is the length of side 2\"))\n",
    "third_side=float(input(\"What is the length of side 3\"))\n",
    "\n",
    "result=first_side+second_side+third_side\n",
    "print(first_side)\n",
    "print(second_side)\n",
    "print(third_side)\n",
    "print(f\"The perimeter of the triangle is {result}\")"
   ]
  },
  {
   "cell_type": "code",
   "execution_count": 22,
   "metadata": {},
   "outputs": [
    {
     "name": "stdout",
     "output_type": "stream",
     "text": [
      "4.0 squared is 16.0\n"
     ]
    }
   ],
   "source": [
    "square_number= float(input(\"Type a number to see its square:\"))\n",
    "result=square_number**2\n",
    "print(f\"{square_number} squared is {result}\")"
   ]
  }
 ],
 "metadata": {
  "kernelspec": {
   "display_name": "Python 3",
   "language": "python",
   "name": "python3"
  },
  "language_info": {
   "codemirror_mode": {
    "name": "ipython",
    "version": 3
   },
   "file_extension": ".py",
   "mimetype": "text/x-python",
   "name": "python",
   "nbconvert_exporter": "python",
   "pygments_lexer": "ipython3",
   "version": "3.12.4"
  }
 },
 "nbformat": 4,
 "nbformat_minor": 2
}
